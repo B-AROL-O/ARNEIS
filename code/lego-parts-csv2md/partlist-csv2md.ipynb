{
 "cells": [
  {
   "cell_type": "markdown",
   "metadata": {},
   "source": [
    "# partlist-csv2md\n",
    "\n",
    "A tool to create a Markdown part list from a BOM (Bill Of Materials) as \n",
    "exported to CSV file from [Stud.IO CAD](https://www.bricklink.com/v3/studio/download.page).\n",
    "\n",
    "> MIT License\n",
    "> \n",
    "> Copyright &copy; 2022 by Alessandro Varesi\n",
    "> \n",
    "> Permission is hereby granted, free of charge, to any person obtaining a copy\n",
    "> of this software and associated documentation files (the \"Software\"), to deal\n",
    "> in the Software without restriction, including without limitation the rights\n",
    "> to use, copy, modify, merge, publish, distribute, sublicense, and/or sell\n",
    "> copies of the Software, and to permit persons to whom the Software is\n",
    "> furnished to do so, subject to the following conditions:\n",
    ">\n",
    "> The above copyright notice and this permission notice shall be included in all\n",
    "> copies or substantial portions of the Software.\n",
    ">\n",
    "> THE SOFTWARE IS PROVIDED \"AS IS\", WITHOUT WARRANTY OF ANY KIND, EXPRESS OR\n",
    "> IMPLIED, INCLUDING BUT NOT LIMITED TO THE WARRANTIES OF MERCHANTABILITY,\n",
    "> FITNESS FOR A PARTICULAR PURPOSE AND NONINFRINGEMENT. IN NO EVENT SHALL THE\n",
    "> AUTHORS OR COPYRIGHT HOLDERS BE LIABLE FOR ANY CLAIM, DAMAGES OR OTHER\n",
    "> LIABILITY, WHETHER IN AN ACTION OF CONTRACT, TORT OR OTHERWISE, ARISING FROM,\n",
    "> OUT OF OR IN CONNECTION WITH THE SOFTWARE OR THE USE OR OTHER DEALINGS IN THE\n",
    "> SOFTWARE.\n",
    ">"
   ]
  },
  {
   "cell_type": "code",
   "execution_count": null,
   "metadata": {},
   "outputs": [],
   "source": [
    "%%capture\n",
    "\n",
    "import sys\n",
    "# Install pip packages in current Jupyter kernel\n",
    "!{sys.executable} -m pip install pandas"
   ]
  },
  {
   "cell_type": "markdown",
   "metadata": {},
   "source": [
    "## Choose the CSV file name\n",
    "\n",
    "In next code cell set the CSV filename (with path if needed)"
   ]
  },
  {
   "cell_type": "code",
   "execution_count": null,
   "metadata": {},
   "outputs": [],
   "source": [
    "csvfile = \"test.csv\""
   ]
  },
  {
   "cell_type": "markdown",
   "metadata": {},
   "source": [
    "Now `Run all` cells of this notebook"
   ]
  },
  {
   "cell_type": "code",
   "execution_count": null,
   "metadata": {},
   "outputs": [],
   "source": [
    "import pandas as pd\n",
    "from IPython.display import display, Markdown\n",
    "\n",
    "df = pd.read_csv(\"test.csv\")\n",
    "df = df.head(len(df)-3)"
   ]
  },
  {
   "cell_type": "code",
   "execution_count": null,
   "metadata": {},
   "outputs": [],
   "source": [
    "md = \"Picture | Qty | Code | Description | Color |\\n\"\n",
    "md += \"--------|----:|------|-------------|-------|\\n\"\n",
    "for i in df.itertuples():\n",
    "    item = i.BLItemNo\n",
    "    qty = i.Qty\n",
    "    description = i.PartName\n",
    "    color = i.ColorName\n",
    "    colorid = i.BLColorId\n",
    "    image = f\"![{item}](https://img.bricklink.com/P/{colorid:.0f}/{item}.jpg)\"\n",
    "    link = f\"[{item}](https://www.bricklink.com/v2/catalog/catalogitem.page?P={item}&idColor={colorid:.0f})\"\n",
    "\n",
    "    md += f\"{image}| {qty:.0f} | {link} | {description} | {color}\\n\"\n",
    "\n",
    "display(Markdown(md))"
   ]
  },
  {
   "cell_type": "code",
   "execution_count": null,
   "metadata": {},
   "outputs": [],
   "source": [
    "outmd = \"## Here is your markdown block\\n\"\n",
    "outmd += \"Copy next code block and paste in your _md_ file\\n\"\n",
    "outmd += \"```(copy)\\n\"\n",
    "outmd += md\n",
    "outmd += \"```\\n\"\n",
    "\n",
    "display(Markdown(outmd))"
   ]
  }
 ],
 "metadata": {
  "interpreter": {
   "hash": "ccbfe5d107a4c8349baac5120d87c0ffb9fee0680d7e4a852ccef624f9b35afe"
  },
  "kernelspec": {
   "display_name": "Python 3.9.4 64-bit ('3.9.4')",
   "language": "python",
   "name": "python3"
  },
  "language_info": {
   "codemirror_mode": {
    "name": "ipython",
    "version": 3
   },
   "file_extension": ".py",
   "mimetype": "text/x-python",
   "name": "python",
   "nbconvert_exporter": "python",
   "pygments_lexer": "ipython3",
   "version": "3.9.10"
  },
  "orig_nbformat": 4
 },
 "nbformat": 4,
 "nbformat_minor": 2
}
